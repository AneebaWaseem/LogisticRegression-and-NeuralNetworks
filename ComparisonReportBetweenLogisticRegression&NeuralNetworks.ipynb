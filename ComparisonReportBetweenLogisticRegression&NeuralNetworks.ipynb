{
  "cells": [
    {
      "cell_type": "code",
      "execution_count": 17,
      "metadata": {
        "colab": {
          "base_uri": "https://localhost:8080/",
          "height": 685
        },
        "id": "GGn-8B0rhXGT",
        "outputId": "fa5843a4-cf04-4c91-da83-7e2ef63ca74c"
      },
      "outputs": [
        {
          "name": "stdout",
          "output_type": "stream",
          "text": [
            "Train: (87, 24)\n",
            "Test: (90, 24)\n",
            "\n",
            "=== Logistic ===\n",
            "Accuracy: 0.9444444444444444\n",
            "F1: 0.9443826473859844\n",
            "Confusion Matrix:\n",
            " [[44  4]\n",
            " [ 1 41]]\n",
            "\n",
            "=== MLP ===\n",
            "Accuracy: 0.5333333333333333\n",
            "F1: 0.34782608695652173\n",
            "Confusion Matrix:\n",
            " [[48  0]\n",
            " [42  0]]\n"
          ]
        },
        {
          "data": {
            "image/png": "[encoded data removed]",
            "text/plain": [
              "<Figure size 1000x400 with 4 Axes>"
            ]
          },
          "metadata": {},
          "output_type": "display_data"
        }
      ],
      "source": [
        "import numpy as np\n",
        "from sklearn.linear_model import LogisticRegression\n",
        "from sklearn.neural_network import MLPClassifier\n",
        "from sklearn.metrics import accuracy_score, f1_score, confusion_matrix\n",
        "import matplotlib.pyplot as plt\n",
        "import seaborn as sns\n",
        "\n",
        "# load data\n",
        "acc1 = np.load(\"/content/drive/MyDrive/train_MSAccelerometer_OpenDoor_RubHands.npy\")\n",
        "gyro1 = np.load(\"/content/drive/MyDrive/train_MSGyroscope_OpenDoor_RubHands.npy\")\n",
        "label1 = np.load(\"/content/drive/MyDrive/train_labels_OpenDoor_RubHands.npy\")\n",
        "\n",
        "acc2 = np.load(\"/content/drive/MyDrive/test_MSAccelerometer_OpenDoor_RubHands.npy\")\n",
        "gyro2 = np.load(\"/content/drive/MyDrive/test_MSGyroscope_OpenDoor_RubHands.npy\")\n",
        "label2 = np.load(\"/content/drive/MyDrive/test_labels_OpenDoor_RubHands.npy\")\n",
        "\n",
        "# feature func\n",
        "def feature(x):\n",
        "    m = np.mean(x, axis=1)\n",
        "    s = np.std(x, axis=1)\n",
        "    mi = np.min(x, axis=1)\n",
        "    ma = np.max(x, axis=1)\n",
        "    return np.concatenate([m, s, mi, ma], axis=1)\n",
        "\n",
        "# extract\n",
        "X1 = np.concatenate([feature(acc1), feature(gyro1)], axis=1)\n",
        "X2 = np.concatenate([feature(acc2), feature(gyro2)], axis=1)\n",
        "\n",
        "print(\"Train:\", X1.shape)\n",
        "print(\"Test:\", X2.shape)\n",
        "\n",
        "# logistic model\n",
        "m1 = LogisticRegression(max_iter=1000)\n",
        "m1.fit(X1, label1)\n",
        "pred1 = m1.predict(X2)\n",
        "\n",
        "acc_log = accuracy_score(label2, pred1)\n",
        "f1_log = f1_score(label2, pred1, average='macro')\n",
        "conf1 = confusion_matrix(label2, pred1)\n",
        "\n",
        "print(\"\\n=== Logistic ===\")\n",
        "print(\"Accuracy:\", acc_log)\n",
        "print(\"F1:\", f1_log)\n",
        "print(\"Confusion Matrix:\\n\", conf1)\n",
        "\n",
        "# mlp classifier\n",
        "m2 = MLPClassifier(hidden_layer_sizes=(50,), max_iter=500, random_state=42)\n",
        "m2.fit(X1, label1)\n",
        "pred2 = m2.predict(X2)\n",
        "\n",
        "acc_mlp = accuracy_score(label2, pred2)\n",
        "f1_mlp = f1_score(label2, pred2, average='macro')\n",
        "conf2 = confusion_matrix(label2, pred2)\n",
        "\n",
        "print(\"\\n=== MLP ===\")\n",
        "print(\"Accuracy:\", acc_mlp)\n",
        "print(\"F1:\", f1_mlp)\n",
        "print(\"Confusion Matrix:\\n\", conf2)\n",
        "\n",
        "# plots\n",
        "plt.figure(figsize=(10, 4))\n",
        "plt.subplot(1, 2, 1)\n",
        "sns.heatmap(conf1, annot=True, fmt='d', cmap='Blues')\n",
        "plt.title(\"Logistic\")\n",
        "\n",
        "plt.subplot(1, 2, 2)\n",
        "sns.heatmap(conf2, annot=True, fmt='d', cmap='Greens')\n",
        "plt.title(\"MLP Classifier\")\n",
        "\n",
        "plt.tight_layout()\n",
        "plt.show()"
      ]
    },
    {
      "cell_type": "markdown",
      "metadata": {
        "id": "IuXl0_R3ucNJ"
      },
      "source": [
        "**Project Report**\n",
        "\n",
        "**1. Activity Recognition Project Report**\n",
        "\n"
      ]
    },
    {
      "cell_type": "markdown",
      "metadata": {
        "id": "8ZrhZ41H0v6D"
      },
      "source": [
        "**1.1 Project Objective Statement**\n",
        "This project is made to classify human activities (Rub Hands & Open Doors) using Motion Sensors.\n"
      ]
    },
    {
      "cell_type": "markdown",
      "metadata": {
        "id": "207key6x1mF_"
      },
      "source": [
        "**1.2 Models Used**\n",
        "MLP Regressor : Using hidden neurons (1 layer 50 neurons)\n",
        "Logistic Regression: Basic linear classifier for baseline.\n"
      ]
    },
    {
      "cell_type": "markdown",
      "metadata": {
        "id": "KhBOW9Ms1qSG"
      },
      "source": [
        "**1.3 DataSet**:\n",
        "Accelerometer and gyroscope readings were processed to extract meaningful features and train machine learning models for activity recognition.\n"
      ]
    },
    {
      "cell_type": "markdown",
      "metadata": {
        "id": "QNAhi7kH1u4P"
      },
      "source": [
        "**1.4 Feature Extraction**:\n",
        "From (X,Y,Z axis ) we took features : Mean , Std, Min, Max. So that makes it 3 * 4 = 12 features, 12 * 2 sensors = 24 features per sample\n"
      ]
    },
    {
      "cell_type": "markdown",
      "metadata": {
        "id": "PWDT7DgF1zgE"
      },
      "source": [
        "**1.5  Logistic Regression:**\n",
        "Simple linear model trained with max_iter = 1000     \n",
        "**Purpose:** Basic linear classifier for baseline.   \n",
        "\n",
        "**Results:**    \n",
        "**Accuracy:** 0.9444444444444444  \n",
        "**F1:** 0.9443826473859844  \n",
        "Confusion Matrix:\n",
        " [[44  4]\n",
        " [ 1 41]]\n"
      ]
    },
    {
      "cell_type": "markdown",
      "metadata": {
        "id": "w4c0k5s02Kln"
      },
      "source": [
        "**1.6 MLP Classifier:**\n",
        "Used MLPClassifier with one hidden layer (50 neurons), max_iter = 500  \n",
        "**Purpose**: Capture non-linear relationships \n",
        " \n",
        "**Results**:  \n",
        "**Accuracy:** 0.5333333333333333  \n",
        "**F1:** 0.34782608695652173  \n",
        "**Confusion Matrix:**\n",
        " [[48  0]\n",
        " [42  0]]\n"
      ]
    },
    {
      "cell_type": "markdown",
      "metadata": {
        "id": "bFEUgQdZ2VrG"
      },
      "source": [
        "**1.7 Conclusion**:\n",
        "MLP Classifier showed better performance due to its ability to learn non-linear patterns. Logistic Regression served as a baseline.\n"
      ]
    }
  ],
  "metadata": {
    "colab": {
      "provenance": []
    },
    "kernelspec": {
      "display_name": "Python 3",
      "name": "python3"
    },
    "language_info": {
      "name": "python"
    }
  },
  "nbformat": 4,
  "nbformat_minor": 0
}
